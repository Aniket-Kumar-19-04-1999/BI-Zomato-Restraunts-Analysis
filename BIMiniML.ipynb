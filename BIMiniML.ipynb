{
 "cells": [
  {
   "cell_type": "code",
   "execution_count": 1,
   "metadata": {},
   "outputs": [],
   "source": [
    "import pandas as pd\n",
    "import numpy as np\n",
    "import math\n",
    "import seaborn as sns\n",
    "import matplotlib.pyplot as plt\n",
    "from sklearn.preprocessing import StandardScaler\n",
    "from sklearn import linear_model,metrics\n",
    "from sklearn.model_selection import train_test_split"
   ]
  },
  {
   "cell_type": "code",
   "execution_count": 2,
   "metadata": {},
   "outputs": [
    {
     "name": "stdout",
     "output_type": "stream",
     "text": [
      "<class 'pandas.core.frame.DataFrame'>\n",
      "RangeIndex: 224520 entries, 0 to 224519\n",
      "Data columns (total 17 columns):\n",
      "zomato_url           224520 non-null object\n",
      "name                 224520 non-null object\n",
      "city                 224520 non-null object\n",
      "area                 224520 non-null object\n",
      "rating               144735 non-null float64\n",
      "rating_count         142397 non-null float64\n",
      "telephone            222930 non-null object\n",
      "cusine               223190 non-null object\n",
      "cost_for_two         220872 non-null float64\n",
      "address              222735 non-null object\n",
      "timings              221556 non-null object\n",
      "online_order         224520 non-null bool\n",
      "table_reservation    224520 non-null bool\n",
      "delivery_only        224520 non-null bool\n",
      "famous_food          52526 non-null object\n",
      "longitude            224511 non-null float64\n",
      "latitude             224511 non-null float64\n",
      "dtypes: bool(3), float64(5), object(9)\n",
      "memory usage: 24.6+ MB\n"
     ]
    }
   ],
   "source": [
    "df=pd.read_csv(r\"C:\\Users\\Aniket\\Desktop\\BI\\MiniProject\\indian_restaurants_details_cleaned_data.csv\")\n",
    "df.info()"
   ]
  },
  {
   "cell_type": "code",
   "execution_count": 3,
   "metadata": {},
   "outputs": [
    {
     "data": {
      "text/plain": [
       "(224520, 17)"
      ]
     },
     "execution_count": 3,
     "metadata": {},
     "output_type": "execute_result"
    }
   ],
   "source": [
    "df.shape"
   ]
  },
  {
   "cell_type": "code",
   "execution_count": 4,
   "metadata": {},
   "outputs": [
    {
     "data": {
      "text/plain": [
       "zomato_url                0\n",
       "name                      0\n",
       "city                      0\n",
       "area                      0\n",
       "rating                79785\n",
       "rating_count          82123\n",
       "telephone              1590\n",
       "cusine                 1330\n",
       "cost_for_two           3648\n",
       "address                1785\n",
       "timings                2964\n",
       "online_order              0\n",
       "table_reservation         0\n",
       "delivery_only             0\n",
       "famous_food          171994\n",
       "longitude                 9\n",
       "latitude                  9\n",
       "dtype: int64"
      ]
     },
     "execution_count": 4,
     "metadata": {},
     "output_type": "execute_result"
    }
   ],
   "source": [
    "df.isnull().sum()"
   ]
  },
  {
   "cell_type": "code",
   "execution_count": 5,
   "metadata": {},
   "outputs": [
    {
     "data": {
      "text/plain": [
       "(142397, 17)"
      ]
     },
     "execution_count": 5,
     "metadata": {},
     "output_type": "execute_result"
    }
   ],
   "source": [
    "newdf=df[(df.rating.notnull()) & (df.rating_count.notnull())]\n",
    "newdf.shape"
   ]
  },
  {
   "cell_type": "code",
   "execution_count": 6,
   "metadata": {},
   "outputs": [
    {
     "data": {
      "text/plain": [
       "zomato_url               0\n",
       "name                     0\n",
       "city                     0\n",
       "area                     0\n",
       "rating                   0\n",
       "rating_count             0\n",
       "telephone             1045\n",
       "cusine                 105\n",
       "cost_for_two          1199\n",
       "address               1031\n",
       "timings               1258\n",
       "online_order             0\n",
       "table_reservation        0\n",
       "delivery_only            0\n",
       "famous_food          90399\n",
       "longitude                1\n",
       "latitude                 1\n",
       "dtype: int64"
      ]
     },
     "execution_count": 6,
     "metadata": {},
     "output_type": "execute_result"
    }
   ],
   "source": [
    "newdf.isnull().sum()"
   ]
  },
  {
   "cell_type": "code",
   "execution_count": 7,
   "metadata": {},
   "outputs": [
    {
     "data": {
      "text/plain": [
       "(141198, 17)"
      ]
     },
     "execution_count": 7,
     "metadata": {},
     "output_type": "execute_result"
    }
   ],
   "source": [
    "newdf=newdf[(newdf.cost_for_two.notnull())]\n",
    "newdf.shape"
   ]
  },
  {
   "cell_type": "code",
   "execution_count": 8,
   "metadata": {
    "scrolled": false
   },
   "outputs": [
    {
     "data": {
      "text/plain": [
       "(125892, 17)"
      ]
     },
     "execution_count": 8,
     "metadata": {},
     "output_type": "execute_result"
    }
   ],
   "source": [
    "unqdf=newdf.drop_duplicates(subset=['telephone'],keep='first',inplace=False)\n",
    "unqdf.shape"
   ]
  },
  {
   "cell_type": "code",
   "execution_count": 9,
   "metadata": {},
   "outputs": [
    {
     "data": {
      "text/plain": [
       "zomato_url               0\n",
       "name                     0\n",
       "city                     0\n",
       "area                     0\n",
       "rating                   0\n",
       "rating_count             0\n",
       "telephone                1\n",
       "cusine                  38\n",
       "cost_for_two             0\n",
       "address                676\n",
       "timings                466\n",
       "online_order             0\n",
       "table_reservation        0\n",
       "delivery_only            0\n",
       "famous_food          79542\n",
       "longitude                1\n",
       "latitude                 1\n",
       "dtype: int64"
      ]
     },
     "execution_count": 9,
     "metadata": {},
     "output_type": "execute_result"
    }
   ],
   "source": [
    "unqdf.isnull().sum()"
   ]
  },
  {
   "cell_type": "code",
   "execution_count": 10,
   "metadata": {},
   "outputs": [
    {
     "data": {
      "text/plain": [
       "(45925, 17)"
      ]
     },
     "execution_count": 10,
     "metadata": {},
     "output_type": "execute_result"
    }
   ],
   "source": [
    "clean=unqdf.dropna()\n",
    "clean.shape"
   ]
  },
  {
   "cell_type": "code",
   "execution_count": 11,
   "metadata": {},
   "outputs": [
    {
     "name": "stdout",
     "output_type": "stream",
     "text": [
      "True     32907\n",
      "False    13018\n",
      "Name: online_order, dtype: int64\n",
      "False    40422\n",
      "True      5503\n",
      "Name: table_reservation, dtype: int64\n",
      "False    44451\n",
      "True      1474\n",
      "Name: delivery_only, dtype: int64\n"
     ]
    }
   ],
   "source": [
    "print(clean.online_order.value_counts())\n",
    "print(clean.table_reservation.value_counts())\n",
    "print(clean.delivery_only.value_counts())"
   ]
  },
  {
   "cell_type": "code",
   "execution_count": 12,
   "metadata": {},
   "outputs": [
    {
     "data": {
      "text/plain": [
       "(45797, 17)"
      ]
     },
     "execution_count": 12,
     "metadata": {},
     "output_type": "execute_result"
    }
   ],
   "source": [
    "clean=clean[(clean.longitude!=0) & (clean.latitude!=0)]\n",
    "clean.shape"
   ]
  },
  {
   "cell_type": "code",
   "execution_count": 13,
   "metadata": {},
   "outputs": [
    {
     "data": {
      "text/plain": [
       "(44144, 17)"
      ]
     },
     "execution_count": 13,
     "metadata": {},
     "output_type": "execute_result"
    }
   ],
   "source": [
    "cleaner=clean.drop_duplicates(subset=['address'],keep='first',inplace=False)\n",
    "cleaner.shape"
   ]
  },
  {
   "cell_type": "code",
   "execution_count": 14,
   "metadata": {},
   "outputs": [
    {
     "data": {
      "text/html": [
       "<div>\n",
       "<style scoped>\n",
       "    .dataframe tbody tr th:only-of-type {\n",
       "        vertical-align: middle;\n",
       "    }\n",
       "\n",
       "    .dataframe tbody tr th {\n",
       "        vertical-align: top;\n",
       "    }\n",
       "\n",
       "    .dataframe thead th {\n",
       "        text-align: right;\n",
       "    }\n",
       "</style>\n",
       "<table border=\"1\" class=\"dataframe\">\n",
       "  <thead>\n",
       "    <tr style=\"text-align: right;\">\n",
       "      <th></th>\n",
       "      <th>rating</th>\n",
       "      <th>rating_count</th>\n",
       "      <th>cost_for_two</th>\n",
       "      <th>longitude</th>\n",
       "      <th>latitude</th>\n",
       "    </tr>\n",
       "  </thead>\n",
       "  <tbody>\n",
       "    <tr>\n",
       "      <td>count</td>\n",
       "      <td>44144.000000</td>\n",
       "      <td>44144.000000</td>\n",
       "      <td>44144.000000</td>\n",
       "      <td>44144.000000</td>\n",
       "      <td>44144.000000</td>\n",
       "    </tr>\n",
       "    <tr>\n",
       "      <td>mean</td>\n",
       "      <td>3.793331</td>\n",
       "      <td>369.089027</td>\n",
       "      <td>628.736544</td>\n",
       "      <td>77.193625</td>\n",
       "      <td>21.278297</td>\n",
       "    </tr>\n",
       "    <tr>\n",
       "      <td>std</td>\n",
       "      <td>0.403490</td>\n",
       "      <td>665.181712</td>\n",
       "      <td>476.372811</td>\n",
       "      <td>4.163198</td>\n",
       "      <td>5.839588</td>\n",
       "    </tr>\n",
       "    <tr>\n",
       "      <td>min</td>\n",
       "      <td>1.800000</td>\n",
       "      <td>4.000000</td>\n",
       "      <td>50.000000</td>\n",
       "      <td>70.756380</td>\n",
       "      <td>8.384333</td>\n",
       "    </tr>\n",
       "    <tr>\n",
       "      <td>25%</td>\n",
       "      <td>3.600000</td>\n",
       "      <td>90.000000</td>\n",
       "      <td>350.000000</td>\n",
       "      <td>73.778071</td>\n",
       "      <td>17.487323</td>\n",
       "    </tr>\n",
       "    <tr>\n",
       "      <td>50%</td>\n",
       "      <td>3.800000</td>\n",
       "      <td>178.000000</td>\n",
       "      <td>500.000000</td>\n",
       "      <td>77.155992</td>\n",
       "      <td>19.252370</td>\n",
       "    </tr>\n",
       "    <tr>\n",
       "      <td>75%</td>\n",
       "      <td>4.000000</td>\n",
       "      <td>393.000000</td>\n",
       "      <td>700.000000</td>\n",
       "      <td>78.009153</td>\n",
       "      <td>28.410688</td>\n",
       "    </tr>\n",
       "    <tr>\n",
       "      <td>max</td>\n",
       "      <td>4.900000</td>\n",
       "      <td>42621.000000</td>\n",
       "      <td>14000.000000</td>\n",
       "      <td>91.832769</td>\n",
       "      <td>34.072370</td>\n",
       "    </tr>\n",
       "  </tbody>\n",
       "</table>\n",
       "</div>"
      ],
      "text/plain": [
       "             rating  rating_count  cost_for_two     longitude      latitude\n",
       "count  44144.000000  44144.000000  44144.000000  44144.000000  44144.000000\n",
       "mean       3.793331    369.089027    628.736544     77.193625     21.278297\n",
       "std        0.403490    665.181712    476.372811      4.163198      5.839588\n",
       "min        1.800000      4.000000     50.000000     70.756380      8.384333\n",
       "25%        3.600000     90.000000    350.000000     73.778071     17.487323\n",
       "50%        3.800000    178.000000    500.000000     77.155992     19.252370\n",
       "75%        4.000000    393.000000    700.000000     78.009153     28.410688\n",
       "max        4.900000  42621.000000  14000.000000     91.832769     34.072370"
      ]
     },
     "execution_count": 14,
     "metadata": {},
     "output_type": "execute_result"
    }
   ],
   "source": [
    "fdf=cleaner\n",
    "fdf.describe()"
   ]
  },
  {
   "cell_type": "code",
   "execution_count": 15,
   "metadata": {},
   "outputs": [
    {
     "name": "stdout",
     "output_type": "stream",
     "text": [
      "<class 'pandas.core.frame.DataFrame'>\n",
      "Int64Index: 44144 entries, 1 to 224004\n",
      "Data columns (total 17 columns):\n",
      "zomato_url           44144 non-null object\n",
      "name                 44144 non-null object\n",
      "city                 44144 non-null object\n",
      "area                 44144 non-null object\n",
      "rating               44144 non-null float64\n",
      "rating_count         44144 non-null float64\n",
      "telephone            44144 non-null object\n",
      "cusine               44144 non-null object\n",
      "cost_for_two         44144 non-null float64\n",
      "address              44144 non-null object\n",
      "timings              44144 non-null object\n",
      "online_order         44144 non-null bool\n",
      "table_reservation    44144 non-null bool\n",
      "delivery_only        44144 non-null bool\n",
      "famous_food          44144 non-null object\n",
      "longitude            44144 non-null float64\n",
      "latitude             44144 non-null float64\n",
      "dtypes: bool(3), float64(5), object(9)\n",
      "memory usage: 5.2+ MB\n"
     ]
    }
   ],
   "source": [
    "fdf.info()"
   ]
  },
  {
   "cell_type": "code",
   "execution_count": 16,
   "metadata": {},
   "outputs": [
    {
     "name": "stderr",
     "output_type": "stream",
     "text": [
      "C:\\Users\\Aniket\\Anaconda3\\lib\\site-packages\\pandas\\core\\frame.py:3494: SettingWithCopyWarning: \n",
      "A value is trying to be set on a copy of a slice from a DataFrame.\n",
      "Try using .loc[row_indexer,col_indexer] = value instead\n",
      "\n",
      "See the caveats in the documentation: http://pandas.pydata.org/pandas-docs/stable/user_guide/indexing.html#returning-a-view-versus-a-copy\n",
      "  self[k1] = value[k2]\n"
     ]
    },
    {
     "data": {
      "text/plain": [
       "zomato_url            object\n",
       "name                  object\n",
       "city                  object\n",
       "area                  object\n",
       "rating               float64\n",
       "rating_count         float64\n",
       "telephone             object\n",
       "cusine                object\n",
       "cost_for_two         float64\n",
       "address               object\n",
       "timings               object\n",
       "online_order           int32\n",
       "table_reservation      int32\n",
       "delivery_only          int32\n",
       "famous_food           object\n",
       "longitude            float64\n",
       "latitude             float64\n",
       "dtype: object"
      ]
     },
     "execution_count": 16,
     "metadata": {},
     "output_type": "execute_result"
    }
   ],
   "source": [
    "fdf[['online_order','table_reservation','delivery_only']]=fdf[['online_order','table_reservation','delivery_only']].astype(int)\n",
    "fdf.dtypes"
   ]
  },
  {
   "cell_type": "code",
   "execution_count": 17,
   "metadata": {},
   "outputs": [
    {
     "data": {
      "text/html": [
       "<div>\n",
       "<style scoped>\n",
       "    .dataframe tbody tr th:only-of-type {\n",
       "        vertical-align: middle;\n",
       "    }\n",
       "\n",
       "    .dataframe tbody tr th {\n",
       "        vertical-align: top;\n",
       "    }\n",
       "\n",
       "    .dataframe thead th {\n",
       "        text-align: right;\n",
       "    }\n",
       "</style>\n",
       "<table border=\"1\" class=\"dataframe\">\n",
       "  <thead>\n",
       "    <tr style=\"text-align: right;\">\n",
       "      <th></th>\n",
       "      <th>zomato_url</th>\n",
       "      <th>name</th>\n",
       "      <th>city</th>\n",
       "      <th>area</th>\n",
       "      <th>rating</th>\n",
       "      <th>rating_count</th>\n",
       "      <th>telephone</th>\n",
       "      <th>cusine</th>\n",
       "      <th>cost_for_two</th>\n",
       "      <th>address</th>\n",
       "      <th>timings</th>\n",
       "      <th>online_order</th>\n",
       "      <th>table_reservation</th>\n",
       "      <th>delivery_only</th>\n",
       "      <th>famous_food</th>\n",
       "      <th>longitude</th>\n",
       "      <th>latitude</th>\n",
       "    </tr>\n",
       "  </thead>\n",
       "  <tbody>\n",
       "    <tr>\n",
       "      <td>1</td>\n",
       "      <td>https://www.zomato.com/mumbai/kunals-creamery-...</td>\n",
       "      <td>Kunal's Creamery &amp; Eatery</td>\n",
       "      <td>Mumbai</td>\n",
       "      <td>Ambernath</td>\n",
       "      <td>3.6</td>\n",
       "      <td>51.0</td>\n",
       "      <td>+91 9561356690 +91 9637537499</td>\n",
       "      <td>Street Food, Chinese, Fast Food</td>\n",
       "      <td>500.0</td>\n",
       "      <td>Shop 14, Trishul Shivdham Complex, Shiv Mandir...</td>\n",
       "      <td>{'Mon': [0, 0, 0, 0, 0, 0, 0, 0, 0, 0, 1, 1, 1...</td>\n",
       "      <td>0</td>\n",
       "      <td>0</td>\n",
       "      <td>0</td>\n",
       "      <td>Penne Pasta</td>\n",
       "      <td>73.184287</td>\n",
       "      <td>19.205887</td>\n",
       "    </tr>\n",
       "    <tr>\n",
       "      <td>7</td>\n",
       "      <td>https://www.zomato.com/mumbai/applemint-khargh...</td>\n",
       "      <td>Applemint</td>\n",
       "      <td>Mumbai</td>\n",
       "      <td>Kharghar</td>\n",
       "      <td>3.5</td>\n",
       "      <td>94.0</td>\n",
       "      <td>+91 9820262225</td>\n",
       "      <td>Chinese</td>\n",
       "      <td>200.0</td>\n",
       "      <td>Shop 32, Hiranandani Crystal Plaza, Sector 7, ...</td>\n",
       "      <td>{'Mon': [0, 0, 0, 0, 0, 0, 0, 0, 0, 0, 0, 0, 1...</td>\n",
       "      <td>1</td>\n",
       "      <td>0</td>\n",
       "      <td>0</td>\n",
       "      <td>Momos , Liti Chokha , Chicken Momo , Litti , N...</td>\n",
       "      <td>73.065527</td>\n",
       "      <td>19.033390</td>\n",
       "    </tr>\n",
       "    <tr>\n",
       "      <td>9</td>\n",
       "      <td>https://www.zomato.com/ncr/food-fantasy-mayur-...</td>\n",
       "      <td>Food Fantasy</td>\n",
       "      <td>Delhi NCR</td>\n",
       "      <td>Mayur Vihar Phase 1</td>\n",
       "      <td>3.8</td>\n",
       "      <td>437.0</td>\n",
       "      <td>00 1122794990 00 1122700251</td>\n",
       "      <td>North Indian, Chinese, Fast Food</td>\n",
       "      <td>500.0</td>\n",
       "      <td>P-35-36, Opposite Fine Home Apartments, Mayur ...</td>\n",
       "      <td>{'Mon': [0, 0, 0, 0, 0, 0, 0, 0, 0, 0, 0, 1, 1...</td>\n",
       "      <td>1</td>\n",
       "      <td>0</td>\n",
       "      <td>0</td>\n",
       "      <td>Tandoori Chicken , Pizza , Dal Makhani , Butte...</td>\n",
       "      <td>77.292763</td>\n",
       "      <td>28.608202</td>\n",
       "    </tr>\n",
       "    <tr>\n",
       "      <td>10</td>\n",
       "      <td>https://www.zomato.com/mumbai/curry-and-combos...</td>\n",
       "      <td>Curry And Combos Twist</td>\n",
       "      <td>Mumbai</td>\n",
       "      <td>Goregaon East</td>\n",
       "      <td>4.4</td>\n",
       "      <td>92.0</td>\n",
       "      <td>+91 9167227170</td>\n",
       "      <td>North Indian, Chinese, Fast Food, Pizza, Panin...</td>\n",
       "      <td>550.0</td>\n",
       "      <td>Shop 6, Mukadam Compound, Off Film City Road, ...</td>\n",
       "      <td>{'Mon': [0, 0, 0, 0, 0, 0, 0, 0, 0, 0.5, 1, 1,...</td>\n",
       "      <td>1</td>\n",
       "      <td>0</td>\n",
       "      <td>0</td>\n",
       "      <td>Kadhai Paneer , Paneer Tikka , Gulab Jamun , C...</td>\n",
       "      <td>72.869879</td>\n",
       "      <td>19.175588</td>\n",
       "    </tr>\n",
       "    <tr>\n",
       "      <td>15</td>\n",
       "      <td>https://www.zomato.com/kolkata/food-village-ba...</td>\n",
       "      <td>Food Village</td>\n",
       "      <td>Kolkata</td>\n",
       "      <td>Baranagar</td>\n",
       "      <td>2.8</td>\n",
       "      <td>355.0</td>\n",
       "      <td>033 25787860 +91 9903968613</td>\n",
       "      <td>North Indian</td>\n",
       "      <td>650.0</td>\n",
       "      <td>144, B.T. Road, Dunlop, Baranagar, Kolkata</td>\n",
       "      <td>{'Mon': [0, 0, 0, 0, 0, 0, 0, 0, 0, 0, 0, 0, 1...</td>\n",
       "      <td>1</td>\n",
       "      <td>0</td>\n",
       "      <td>0</td>\n",
       "      <td>Tandoori Chicken , Fish , Bbq Chicken , Veg Pu...</td>\n",
       "      <td>88.377416</td>\n",
       "      <td>22.652427</td>\n",
       "    </tr>\n",
       "  </tbody>\n",
       "</table>\n",
       "</div>"
      ],
      "text/plain": [
       "                                           zomato_url  \\\n",
       "1   https://www.zomato.com/mumbai/kunals-creamery-...   \n",
       "7   https://www.zomato.com/mumbai/applemint-khargh...   \n",
       "9   https://www.zomato.com/ncr/food-fantasy-mayur-...   \n",
       "10  https://www.zomato.com/mumbai/curry-and-combos...   \n",
       "15  https://www.zomato.com/kolkata/food-village-ba...   \n",
       "\n",
       "                         name       city                 area  rating  \\\n",
       "1   Kunal's Creamery & Eatery     Mumbai            Ambernath     3.6   \n",
       "7                   Applemint     Mumbai             Kharghar     3.5   \n",
       "9                Food Fantasy  Delhi NCR  Mayur Vihar Phase 1     3.8   \n",
       "10     Curry And Combos Twist     Mumbai        Goregaon East     4.4   \n",
       "15               Food Village    Kolkata            Baranagar     2.8   \n",
       "\n",
       "    rating_count                      telephone  \\\n",
       "1           51.0  +91 9561356690 +91 9637537499   \n",
       "7           94.0                 +91 9820262225   \n",
       "9          437.0    00 1122794990 00 1122700251   \n",
       "10          92.0                 +91 9167227170   \n",
       "15         355.0    033 25787860 +91 9903968613   \n",
       "\n",
       "                                               cusine  cost_for_two  \\\n",
       "1                     Street Food, Chinese, Fast Food         500.0   \n",
       "7                                             Chinese         200.0   \n",
       "9                    North Indian, Chinese, Fast Food         500.0   \n",
       "10  North Indian, Chinese, Fast Food, Pizza, Panin...         550.0   \n",
       "15                                       North Indian         650.0   \n",
       "\n",
       "                                              address  \\\n",
       "1   Shop 14, Trishul Shivdham Complex, Shiv Mandir...   \n",
       "7   Shop 32, Hiranandani Crystal Plaza, Sector 7, ...   \n",
       "9   P-35-36, Opposite Fine Home Apartments, Mayur ...   \n",
       "10  Shop 6, Mukadam Compound, Off Film City Road, ...   \n",
       "15         144, B.T. Road, Dunlop, Baranagar, Kolkata   \n",
       "\n",
       "                                              timings  online_order  \\\n",
       "1   {'Mon': [0, 0, 0, 0, 0, 0, 0, 0, 0, 0, 1, 1, 1...             0   \n",
       "7   {'Mon': [0, 0, 0, 0, 0, 0, 0, 0, 0, 0, 0, 0, 1...             1   \n",
       "9   {'Mon': [0, 0, 0, 0, 0, 0, 0, 0, 0, 0, 0, 1, 1...             1   \n",
       "10  {'Mon': [0, 0, 0, 0, 0, 0, 0, 0, 0, 0.5, 1, 1,...             1   \n",
       "15  {'Mon': [0, 0, 0, 0, 0, 0, 0, 0, 0, 0, 0, 0, 1...             1   \n",
       "\n",
       "    table_reservation  delivery_only  \\\n",
       "1                   0              0   \n",
       "7                   0              0   \n",
       "9                   0              0   \n",
       "10                  0              0   \n",
       "15                  0              0   \n",
       "\n",
       "                                          famous_food  longitude   latitude  \n",
       "1                                         Penne Pasta  73.184287  19.205887  \n",
       "7   Momos , Liti Chokha , Chicken Momo , Litti , N...  73.065527  19.033390  \n",
       "9   Tandoori Chicken , Pizza , Dal Makhani , Butte...  77.292763  28.608202  \n",
       "10  Kadhai Paneer , Paneer Tikka , Gulab Jamun , C...  72.869879  19.175588  \n",
       "15  Tandoori Chicken , Fish , Bbq Chicken , Veg Pu...  88.377416  22.652427  "
      ]
     },
     "execution_count": 17,
     "metadata": {},
     "output_type": "execute_result"
    }
   ],
   "source": [
    "fdf.head()"
   ]
  },
  {
   "cell_type": "code",
   "execution_count": 18,
   "metadata": {},
   "outputs": [
    {
     "data": {
      "text/html": [
       "<div>\n",
       "<style scoped>\n",
       "    .dataframe tbody tr th:only-of-type {\n",
       "        vertical-align: middle;\n",
       "    }\n",
       "\n",
       "    .dataframe tbody tr th {\n",
       "        vertical-align: top;\n",
       "    }\n",
       "\n",
       "    .dataframe thead th {\n",
       "        text-align: right;\n",
       "    }\n",
       "</style>\n",
       "<table border=\"1\" class=\"dataframe\">\n",
       "  <thead>\n",
       "    <tr style=\"text-align: right;\">\n",
       "      <th></th>\n",
       "      <th>rating</th>\n",
       "      <th>rating_count</th>\n",
       "      <th>cost_for_two</th>\n",
       "      <th>online_order</th>\n",
       "      <th>table_reservation</th>\n",
       "      <th>delivery_only</th>\n",
       "      <th>longitude</th>\n",
       "      <th>latitude</th>\n",
       "    </tr>\n",
       "  </thead>\n",
       "  <tbody>\n",
       "    <tr>\n",
       "      <td>count</td>\n",
       "      <td>44144.000000</td>\n",
       "      <td>44144.000000</td>\n",
       "      <td>44144.000000</td>\n",
       "      <td>44144.000000</td>\n",
       "      <td>44144.000000</td>\n",
       "      <td>44144.000000</td>\n",
       "      <td>44144.000000</td>\n",
       "      <td>44144.000000</td>\n",
       "    </tr>\n",
       "    <tr>\n",
       "      <td>mean</td>\n",
       "      <td>3.793331</td>\n",
       "      <td>369.089027</td>\n",
       "      <td>628.736544</td>\n",
       "      <td>0.725920</td>\n",
       "      <td>0.113968</td>\n",
       "      <td>0.030514</td>\n",
       "      <td>77.193625</td>\n",
       "      <td>21.278297</td>\n",
       "    </tr>\n",
       "    <tr>\n",
       "      <td>std</td>\n",
       "      <td>0.403490</td>\n",
       "      <td>665.181712</td>\n",
       "      <td>476.372811</td>\n",
       "      <td>0.446055</td>\n",
       "      <td>0.317776</td>\n",
       "      <td>0.171998</td>\n",
       "      <td>4.163198</td>\n",
       "      <td>5.839588</td>\n",
       "    </tr>\n",
       "    <tr>\n",
       "      <td>min</td>\n",
       "      <td>1.800000</td>\n",
       "      <td>4.000000</td>\n",
       "      <td>50.000000</td>\n",
       "      <td>0.000000</td>\n",
       "      <td>0.000000</td>\n",
       "      <td>0.000000</td>\n",
       "      <td>70.756380</td>\n",
       "      <td>8.384333</td>\n",
       "    </tr>\n",
       "    <tr>\n",
       "      <td>25%</td>\n",
       "      <td>3.600000</td>\n",
       "      <td>90.000000</td>\n",
       "      <td>350.000000</td>\n",
       "      <td>0.000000</td>\n",
       "      <td>0.000000</td>\n",
       "      <td>0.000000</td>\n",
       "      <td>73.778071</td>\n",
       "      <td>17.487323</td>\n",
       "    </tr>\n",
       "    <tr>\n",
       "      <td>50%</td>\n",
       "      <td>3.800000</td>\n",
       "      <td>178.000000</td>\n",
       "      <td>500.000000</td>\n",
       "      <td>1.000000</td>\n",
       "      <td>0.000000</td>\n",
       "      <td>0.000000</td>\n",
       "      <td>77.155992</td>\n",
       "      <td>19.252370</td>\n",
       "    </tr>\n",
       "    <tr>\n",
       "      <td>75%</td>\n",
       "      <td>4.000000</td>\n",
       "      <td>393.000000</td>\n",
       "      <td>700.000000</td>\n",
       "      <td>1.000000</td>\n",
       "      <td>0.000000</td>\n",
       "      <td>0.000000</td>\n",
       "      <td>78.009153</td>\n",
       "      <td>28.410688</td>\n",
       "    </tr>\n",
       "    <tr>\n",
       "      <td>max</td>\n",
       "      <td>4.900000</td>\n",
       "      <td>42621.000000</td>\n",
       "      <td>14000.000000</td>\n",
       "      <td>1.000000</td>\n",
       "      <td>1.000000</td>\n",
       "      <td>1.000000</td>\n",
       "      <td>91.832769</td>\n",
       "      <td>34.072370</td>\n",
       "    </tr>\n",
       "  </tbody>\n",
       "</table>\n",
       "</div>"
      ],
      "text/plain": [
       "             rating  rating_count  cost_for_two  online_order  \\\n",
       "count  44144.000000  44144.000000  44144.000000  44144.000000   \n",
       "mean       3.793331    369.089027    628.736544      0.725920   \n",
       "std        0.403490    665.181712    476.372811      0.446055   \n",
       "min        1.800000      4.000000     50.000000      0.000000   \n",
       "25%        3.600000     90.000000    350.000000      0.000000   \n",
       "50%        3.800000    178.000000    500.000000      1.000000   \n",
       "75%        4.000000    393.000000    700.000000      1.000000   \n",
       "max        4.900000  42621.000000  14000.000000      1.000000   \n",
       "\n",
       "       table_reservation  delivery_only     longitude      latitude  \n",
       "count       44144.000000   44144.000000  44144.000000  44144.000000  \n",
       "mean            0.113968       0.030514     77.193625     21.278297  \n",
       "std             0.317776       0.171998      4.163198      5.839588  \n",
       "min             0.000000       0.000000     70.756380      8.384333  \n",
       "25%             0.000000       0.000000     73.778071     17.487323  \n",
       "50%             0.000000       0.000000     77.155992     19.252370  \n",
       "75%             0.000000       0.000000     78.009153     28.410688  \n",
       "max             1.000000       1.000000     91.832769     34.072370  "
      ]
     },
     "execution_count": 18,
     "metadata": {},
     "output_type": "execute_result"
    }
   ],
   "source": [
    "fdf.describe()"
   ]
  },
  {
   "cell_type": "code",
   "execution_count": 19,
   "metadata": {},
   "outputs": [
    {
     "name": "stdout",
     "output_type": "stream",
     "text": [
      "['zomato_url', 'name', 'city', 'area', 'rating', 'rating_count', 'telephone', 'cusine', 'cost_for_two', 'address', 'timings', 'famous_food', 'longitude', 'latitude']\n",
      "['online_order', 'table_reservation', 'delivery_only']\n"
     ]
    }
   ],
   "source": [
    "cont_val=[]\n",
    "cat_val=[]\n",
    "for col in fdf.columns:\n",
    "    if len(fdf[col].unique())<=10:\n",
    "        cat_val.append(col)\n",
    "    else:\n",
    "        cont_val.append(col)\n",
    "\n",
    "print(cont_val)\n",
    "print(cat_val)"
   ]
  },
  {
   "cell_type": "code",
   "execution_count": 20,
   "metadata": {},
   "outputs": [
    {
     "data": {
      "text/plain": [
       "(44144, 6)"
      ]
     },
     "execution_count": 20,
     "metadata": {},
     "output_type": "execute_result"
    }
   ],
   "source": [
    "features=['rating','rating_count','cost_for_two','online_order','table_reservation','delivery_only']\n",
    "x=fdf[features]\n",
    "x.shape"
   ]
  },
  {
   "cell_type": "code",
   "execution_count": 21,
   "metadata": {
    "scrolled": true
   },
   "outputs": [
    {
     "data": {
      "text/plain": [
       "Text(0.5, 1, 'Correlation Heatmap')"
      ]
     },
     "execution_count": 21,
     "metadata": {},
     "output_type": "execute_result"
    },
    {
     "data": {
      "image/png": "[encoded data removed]",
      "text/plain": [
       "<Figure size 1152x432 with 2 Axes>"
      ]
     },
     "metadata": {
      "needs_background": "light"
     },
     "output_type": "display_data"
    }
   ],
   "source": [
    "plt.figure(figsize=(16, 6))\n",
    "heatmap = sns.heatmap(x.corr(), vmin=-1, vmax=1, annot=True)\n",
    "heatmap.set_title('Correlation Heatmap', fontdict={'fontsize':12}, pad=12)"
   ]
  },
  {
   "cell_type": "code",
   "execution_count": 22,
   "metadata": {},
   "outputs": [
    {
     "data": {
      "text/plain": [
       "<matplotlib.axes._subplots.AxesSubplot at 0x2113b46ba88>"
      ]
     },
     "execution_count": 22,
     "metadata": {},
     "output_type": "execute_result"
    },
    {
     "data": {
      "image/png": "[encoded data removed]",
      "text/plain": [
       "<Figure size 864x576 with 1 Axes>"
      ]
     },
     "metadata": {
      "needs_background": "light"
     },
     "output_type": "display_data"
    }
   ],
   "source": [
    "x.drop('cost_for_two', axis=1).corrwith(x.cost_for_two).plot(kind='bar', grid=True, figsize=(12, 8), title=\"Correlation with Cost for two\")"
   ]
  },
  {
   "cell_type": "code",
   "execution_count": 23,
   "metadata": {},
   "outputs": [
    {
     "name": "stderr",
     "output_type": "stream",
     "text": [
      "C:\\Users\\Aniket\\Anaconda3\\lib\\site-packages\\ipykernel_launcher.py:8: SettingWithCopyWarning: \n",
      "A value is trying to be set on a copy of a slice from a DataFrame.\n",
      "Try using .loc[row_indexer,col_indexer] = value instead\n",
      "\n",
      "See the caveats in the documentation: http://pandas.pydata.org/pandas-docs/stable/user_guide/indexing.html#returning-a-view-versus-a-copy\n",
      "  \n",
      "C:\\Users\\Aniket\\Anaconda3\\lib\\site-packages\\pandas\\core\\indexing.py:494: SettingWithCopyWarning: \n",
      "A value is trying to be set on a copy of a slice from a DataFrame.\n",
      "Try using .loc[row_indexer,col_indexer] = value instead\n",
      "\n",
      "See the caveats in the documentation: http://pandas.pydata.org/pandas-docs/stable/user_guide/indexing.html#returning-a-view-versus-a-copy\n",
      "  self.obj[item] = s\n"
     ]
    }
   ],
   "source": [
    "from sklearn.preprocessing import StandardScaler\n",
    "\n",
    "X=x[['table_reservation','rating_count','rating']]\n",
    "y=x['cost_for_two']\n",
    "\n",
    "temp=[val for val in cont_val if val in X.columns]\n",
    "sc=StandardScaler()\n",
    "X[temp]=sc.fit_transform(X[temp])"
   ]
  },
  {
   "cell_type": "code",
   "execution_count": 24,
   "metadata": {},
   "outputs": [],
   "source": [
    "xtrain,xtest,ytrain,ytest=train_test_split(X,y,test_size=0.3,random_state=1)"
   ]
  },
  {
   "cell_type": "code",
   "execution_count": 25,
   "metadata": {},
   "outputs": [],
   "source": [
    "mod1=linear_model.LinearRegression()\n",
    "mod1.fit(xtrain,ytrain)\n",
    "ypred=mod1.predict(xtest)"
   ]
  },
  {
   "cell_type": "code",
   "execution_count": 26,
   "metadata": {},
   "outputs": [
    {
     "name": "stdout",
     "output_type": "stream",
     "text": [
      "65.7168062831401\n"
     ]
    }
   ],
   "source": [
    "from statistics import mean\n",
    "\n",
    "print(((math.sqrt(metrics.mean_squared_error(ytest, ypred)))/mean(ytest))*100)"
   ]
  },
  {
   "cell_type": "code",
   "execution_count": 27,
   "metadata": {},
   "outputs": [
    {
     "data": {
      "text/html": [
       "<div>\n",
       "<style scoped>\n",
       "    .dataframe tbody tr th:only-of-type {\n",
       "        vertical-align: middle;\n",
       "    }\n",
       "\n",
       "    .dataframe tbody tr th {\n",
       "        vertical-align: top;\n",
       "    }\n",
       "\n",
       "    .dataframe thead th {\n",
       "        text-align: right;\n",
       "    }\n",
       "</style>\n",
       "<table border=\"1\" class=\"dataframe\">\n",
       "  <thead>\n",
       "    <tr style=\"text-align: right;\">\n",
       "      <th></th>\n",
       "      <th>Original</th>\n",
       "      <th>Predicted</th>\n",
       "    </tr>\n",
       "  </thead>\n",
       "  <tbody>\n",
       "    <tr>\n",
       "      <td>0</td>\n",
       "      <td>500.0</td>\n",
       "      <td>576.564764</td>\n",
       "    </tr>\n",
       "    <tr>\n",
       "      <td>1</td>\n",
       "      <td>400.0</td>\n",
       "      <td>556.479044</td>\n",
       "    </tr>\n",
       "    <tr>\n",
       "      <td>2</td>\n",
       "      <td>850.0</td>\n",
       "      <td>1284.526577</td>\n",
       "    </tr>\n",
       "    <tr>\n",
       "      <td>3</td>\n",
       "      <td>700.0</td>\n",
       "      <td>544.893433</td>\n",
       "    </tr>\n",
       "    <tr>\n",
       "      <td>4</td>\n",
       "      <td>300.0</td>\n",
       "      <td>451.642000</td>\n",
       "    </tr>\n",
       "    <tr>\n",
       "      <td>...</td>\n",
       "      <td>...</td>\n",
       "      <td>...</td>\n",
       "    </tr>\n",
       "    <tr>\n",
       "      <td>13239</td>\n",
       "      <td>1200.0</td>\n",
       "      <td>537.794442</td>\n",
       "    </tr>\n",
       "    <tr>\n",
       "      <td>13240</td>\n",
       "      <td>100.0</td>\n",
       "      <td>542.003885</td>\n",
       "    </tr>\n",
       "    <tr>\n",
       "      <td>13241</td>\n",
       "      <td>200.0</td>\n",
       "      <td>530.041596</td>\n",
       "    </tr>\n",
       "    <tr>\n",
       "      <td>13242</td>\n",
       "      <td>500.0</td>\n",
       "      <td>500.889228</td>\n",
       "    </tr>\n",
       "    <tr>\n",
       "      <td>13243</td>\n",
       "      <td>1000.0</td>\n",
       "      <td>581.599644</td>\n",
       "    </tr>\n",
       "  </tbody>\n",
       "</table>\n",
       "<p>13244 rows × 2 columns</p>\n",
       "</div>"
      ],
      "text/plain": [
       "       Original    Predicted\n",
       "0         500.0   576.564764\n",
       "1         400.0   556.479044\n",
       "2         850.0  1284.526577\n",
       "3         700.0   544.893433\n",
       "4         300.0   451.642000\n",
       "...         ...          ...\n",
       "13239    1200.0   537.794442\n",
       "13240     100.0   542.003885\n",
       "13241     200.0   530.041596\n",
       "13242     500.0   500.889228\n",
       "13243    1000.0   581.599644\n",
       "\n",
       "[13244 rows x 2 columns]"
      ]
     },
     "execution_count": 27,
     "metadata": {},
     "output_type": "execute_result"
    }
   ],
   "source": [
    "visdf=pd.DataFrame({'Original':ytest.tolist(),'Predicted':ypred.tolist()})\n",
    "visdf"
   ]
  },
  {
   "cell_type": "code",
   "execution_count": 28,
   "metadata": {},
   "outputs": [],
   "source": [
    "visdf['Sr']=visdf.reset_index().index"
   ]
  },
  {
   "cell_type": "code",
   "execution_count": 29,
   "metadata": {},
   "outputs": [],
   "source": [
    "visdf['Sr']+=1"
   ]
  },
  {
   "cell_type": "code",
   "execution_count": 30,
   "metadata": {
    "scrolled": true
   },
   "outputs": [
    {
     "data": {
      "text/html": [
       "<div>\n",
       "<style scoped>\n",
       "    .dataframe tbody tr th:only-of-type {\n",
       "        vertical-align: middle;\n",
       "    }\n",
       "\n",
       "    .dataframe tbody tr th {\n",
       "        vertical-align: top;\n",
       "    }\n",
       "\n",
       "    .dataframe thead th {\n",
       "        text-align: right;\n",
       "    }\n",
       "</style>\n",
       "<table border=\"1\" class=\"dataframe\">\n",
       "  <thead>\n",
       "    <tr style=\"text-align: right;\">\n",
       "      <th></th>\n",
       "      <th>Original</th>\n",
       "      <th>Predicted</th>\n",
       "      <th>Sr</th>\n",
       "    </tr>\n",
       "  </thead>\n",
       "  <tbody>\n",
       "    <tr>\n",
       "      <td>0</td>\n",
       "      <td>500.0</td>\n",
       "      <td>576.564764</td>\n",
       "      <td>1</td>\n",
       "    </tr>\n",
       "    <tr>\n",
       "      <td>1</td>\n",
       "      <td>400.0</td>\n",
       "      <td>556.479044</td>\n",
       "      <td>2</td>\n",
       "    </tr>\n",
       "    <tr>\n",
       "      <td>2</td>\n",
       "      <td>850.0</td>\n",
       "      <td>1284.526577</td>\n",
       "      <td>3</td>\n",
       "    </tr>\n",
       "    <tr>\n",
       "      <td>3</td>\n",
       "      <td>700.0</td>\n",
       "      <td>544.893433</td>\n",
       "      <td>4</td>\n",
       "    </tr>\n",
       "    <tr>\n",
       "      <td>4</td>\n",
       "      <td>300.0</td>\n",
       "      <td>451.642000</td>\n",
       "      <td>5</td>\n",
       "    </tr>\n",
       "  </tbody>\n",
       "</table>\n",
       "</div>"
      ],
      "text/plain": [
       "   Original    Predicted  Sr\n",
       "0     500.0   576.564764   1\n",
       "1     400.0   556.479044   2\n",
       "2     850.0  1284.526577   3\n",
       "3     700.0   544.893433   4\n",
       "4     300.0   451.642000   5"
      ]
     },
     "execution_count": 30,
     "metadata": {},
     "output_type": "execute_result"
    }
   ],
   "source": [
    "visdf.head()"
   ]
  },
  {
   "cell_type": "code",
   "execution_count": 32,
   "metadata": {},
   "outputs": [
    {
     "data": {
      "image/png": "[encoded data removed]",
      "text/plain": [
       "<Figure size 720x576 with 1 Axes>"
      ]
     },
     "metadata": {
      "needs_background": "light"
     },
     "output_type": "display_data"
    }
   ],
   "source": [
    "plt.figure(figsize=(10,8))\n",
    "sns.set(font_scale=1.5)\n",
    "g=sns.lineplot(x='Sr', y='value', hue='variable', data=pd.melt(visdf, ['Sr']))\n",
    "plt.title(\"Original Vs. Predicted Values\")\n",
    "plt.show(g)"
   ]
  },
  {
   "cell_type": "code",
   "execution_count": 33,
   "metadata": {},
   "outputs": [
    {
     "data": {
      "text/plain": [
       "<matplotlib.axes._subplots.AxesSubplot at 0x2113b856548>"
      ]
     },
     "execution_count": 33,
     "metadata": {},
     "output_type": "execute_result"
    },
    {
     "data": {
      "image/png": "[encoded data removed]",
      "text/plain": [
       "<Figure size 864x576 with 1 Axes>"
      ]
     },
     "metadata": {},
     "output_type": "display_data"
    }
   ],
   "source": [
    "x.drop('table_reservation', axis=1).corrwith(x.table_reservation).plot(kind='bar', grid=True, figsize=(12, 8), title=\"Correlation with table_reservation\")"
   ]
  },
  {
   "cell_type": "code",
   "execution_count": 34,
   "metadata": {},
   "outputs": [],
   "source": [
    "from sklearn.linear_model import LogisticRegression\n",
    "from sklearn.metrics import accuracy_score\n",
    "\n",
    "y=X['table_reservation']\n",
    "X=X[['rating_count','rating']]"
   ]
  },
  {
   "cell_type": "code",
   "execution_count": 35,
   "metadata": {},
   "outputs": [],
   "source": [
    "xtrain,xtest,ytrain,ytest=train_test_split(X,y,test_size=0.3,random_state=1)"
   ]
  },
  {
   "cell_type": "code",
   "execution_count": 36,
   "metadata": {},
   "outputs": [
    {
     "data": {
      "image/png": "[encoded data removed]",
      "text/plain": [
       "<Figure size 720x576 with 1 Axes>"
      ]
     },
     "metadata": {},
     "output_type": "display_data"
    }
   ],
   "source": [
    "plt.figure(figsize=(10,8))\n",
    "sns.scatterplot(x='rating', y='rating_count',hue='table_reservation',data=fdf)\n",
    "#plt.plot(fdf['rating_count'], fdf['rating'])\n",
    "plt.xlabel('Rating')\n",
    "plt.ylabel('Rating Count')\n",
    "plt.legend()\n",
    "plt.show()"
   ]
  },
  {
   "cell_type": "code",
   "execution_count": 37,
   "metadata": {},
   "outputs": [
    {
     "name": "stdout",
     "output_type": "stream",
     "text": [
      "0.8942162488674117\n"
     ]
    }
   ],
   "source": [
    "mod2 = LogisticRegression()\n",
    "mod2.fit(xtrain, ytrain)\n",
    "predicted_classes = mod2.predict(xtest)\n",
    "accuracy = accuracy_score(ytest,predicted_classes)\n",
    "print(accuracy)"
   ]
  }
 ],
 "metadata": {
  "kernelspec": {
   "display_name": "Python 3",
   "language": "python",
   "name": "python3"
  },
  "language_info": {
   "codemirror_mode": {
    "name": "ipython",
    "version": 3
   },
   "file_extension": ".py",
   "mimetype": "text/x-python",
   "name": "python",
   "nbconvert_exporter": "python",
   "pygments_lexer": "ipython3",
   "version": "3.7.4"
  }
 },
 "nbformat": 4,
 "nbformat_minor": 4
}
